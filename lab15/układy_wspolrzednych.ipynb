{
 "cells": [
  {
   "cell_type": "markdown",
   "metadata": {},
   "source": [
    "# Przekształcanie układów wspoółrzędnych"
   ]
  },
  {
   "cell_type": "markdown",
   "metadata": {},
   "source": [
    "Data i grupa:"
   ]
  },
  {
   "cell_type": "markdown",
   "metadata": {},
   "source": [
    "Uczestnicy:"
   ]
  },
  {
   "cell_type": "code",
   "execution_count": 2,
   "metadata": {},
   "outputs": [],
   "source": [
    "#All imports go here\n",
    "import sympy as sym\n",
    "import numpy as np\n",
    "import matplotlib.pyplot as plt\n",
    "import pickle\n",
    "from typing import Optional, Tuple, Dict"
   ]
  },
  {
   "cell_type": "markdown",
   "metadata": {},
   "source": [
    "## Zadanie 1.\n",
    "\n",
    "Z wykorzystaniem biblioteki SymPy (https://docs.sympy.org/latest/index.html) wyprowadzić macierz rotacji na podstawie kątów Eulera dla prawoskrętnego układu współrzędnych przyjmując kolejność obrotów roll-pitch-yaw ($\\alpha,\\;\\beta,\\;\\gamma$) oraz wyliczyć wartości liczbowe dla kątów $\\alpha=95^o,\\;\\beta=88^o,\\;\\gamma=48^o$.\n",
    "Następnie zaproponować metodę odwrotną tj. wyznaczyć kąty roll, pitch i yaw z  macierzy obrotu oraz sprawdzić jaki błąd powstał po wykonaniu przekształcenia w obu kierunkach. Skomentować uzyskane wyniki.\n",
    "Macierze obrotu względem osi $x,y,z$:\n",
    "\n",
    "\\begin{equation*}\n",
    "R_x =\\begin{bmatrix} \n",
    "      1 && 0 && 0  \\\\ \n",
    "      0 && \\cos \\: \\alpha && -\\sin \\: \\alpha  \\\\\n",
    "      0 && \\sin \\: \\alpha && \\cos \\: \\alpha  \\\\\n",
    "   \\end{bmatrix}\n",
    "\\end{equation*}\n",
    "\n",
    "\\begin{equation*}\n",
    "R_y =\\begin{bmatrix} \n",
    "      \\cos \\: \\beta && 0 && \\sin \\: \\beta  \\\\ \n",
    "      0 && 1 && 0  \\\\\n",
    "      -\\sin \\: \\beta && 0 && \\cos \\: \\beta  \\\\\n",
    "   \\end{bmatrix}\n",
    "\\end{equation*}\n",
    "\n",
    "\\begin{equation*}\n",
    "R_z =\\begin{bmatrix}\n",
    "      \\cos \\: \\gamma && -\\sin \\: \\gamma && 0\\\\\n",
    "      \\sin \\: \\gamma && \\cos \\: \\gamma  && 0\\\\\n",
    "      0 && 0 && 1  \\\\ \n",
    "   \\end{bmatrix}\n",
    "\\end{equation*}\n",
    "\n",
    "Przykład wykorzystania biblioteki SymPy:\n",
    "```python\n",
    "import sympy as sym\n",
    "x, y, z, t = sym.symbols('x y z t')\n",
    "K = sym.Matrix([[x*t,y/t],[z, 0]])\n",
    "```\n"
   ]
  },
  {
   "cell_type": "markdown",
   "metadata": {},
   "source": [
    "### Rozwiązanie"
   ]
  },
  {
   "cell_type": "code",
   "execution_count": null,
   "metadata": {},
   "outputs": [],
   "source": [
    "# Your solution goes here"
   ]
  },
  {
   "cell_type": "markdown",
   "metadata": {},
   "source": [
    "## Zadanie 2.\n",
    "\n",
    "Wykorzystując dane z popularnego symulatora CARLA (http://carla.org/) wyrysować 3D Bounding Box na obrazie z kamery.\n",
    "3D Bounding Box są zapisane w formacie:\n",
    "* położenie obiektu (x,y,z) w układzie współrzędnych samochodu\n",
    "* połowa wysokości\n",
    "* połowa szerokość\n",
    "* połowa długości\n",
    "\n",
    "Dodatkowo posiadamy informację o pozycji i orientacji samochodu względem układu współrzędnych świata oraz \n",
    "pozycji i orientacji kamery względem układu współrzędnych samochodu.\n",
    "Szczegółowe informacje znajdują się na stronie (https://carla.readthedocs.io/en/latest/)\n",
    "\n",
    "Należy przekształcić punkty Bounding Box'a do układu współrzędnych świata, potem do układu współrzędnych kamery, następnie zrzutować je na płaszczyznę obrazu według następującego wzoru:\n",
    "\\begin{equation}\n",
    "\\begin{bmatrix}\n",
    "u\\\\\n",
    "v\\\\\n",
    "1\n",
    "\\end{bmatrix}\n",
    "= \\frac{1}{z}\n",
    "\\begin{bmatrix} \n",
    "      f && 0 && u_0  \\\\ \n",
    "      0 && f && v_0  \\\\\n",
    "      0 && 0 && 1  \\\\\n",
    "\\end{bmatrix}\n",
    "\\begin{bmatrix} \n",
    "      x\\\\\n",
    "      y\\\\\n",
    "      z\n",
    "\\end{bmatrix}\n",
    "\\quad z>0\n",
    "\\end{equation}\n",
    "Gdzie:\n",
    "* $u,v$ współrzedne obrazu\n",
    "* $f$ ogniskowa kamery\n",
    "* $u_0, v_0$ współrzedne środka obrazu.\n",
    "* $x,y,z$ punkty w układzie współrzędnym kamery\n",
    "\n",
    "Ostatecznie należy wyświetlić zdjęcie z wyrysowanymi liniami.\n",
    "Wszystkie potrzebne dane wraz z obrazem znajdują się w słowniku w plikach \"frame*.dat\".\n",
    "\n",
    "Opis danych:\n",
    "* Zdjęcie: \n",
    "         data['sensors']['FrontCamera']\n",
    "* Lista samochodów: \n",
    "         data['actors']\n",
    "* Zarówno kamera oraz samochody mają następuące pola:\n",
    "         ['transform']['location']['x']\n",
    "         ['transform']['location']['y']\n",
    "         ['transform']['location']['z']\n",
    "         ['transform']['rotation']['roll']\n",
    "         ['transform']['rotation']['pitch']\n",
    "         ['transform']['rotation']['yaw']\n",
    "* Samochód ma dodatkowo pola:\n",
    "         ['bounding_box']['location']['x']\n",
    "         ['bounding_box']['location']['y']\n",
    "         ['bounding_box']['location']['z']\n",
    "         ['bounding_box']['extent']['x']\n",
    "         ['bounding_box']['extent']['y']\n",
    "         ['bounding_box']['extent']['z']\n",
    "* Kamera ma dodatkowo pola:\n",
    "         ['raw_data'] zdjęcie w formacie BGR 0-255\n",
    "         ['calibration']['intrinsic'] macierz 3x3 z prametrami inrinsic\n",
    "\n",
    "         \n",
    "<img src=\"drawing_transformations.png\" width=\"600\" />\n",
    "\n",
    "<img src=\"lines.png\" />\n",
    "\n",
    "### Podpowiedzi:\n",
    "* W przypadku CARLI macierz rotacji ma nastepującą formę:\n",
    "\n",
    "\\begin{equation}\n",
    "\\begin{bmatrix} \n",
    "      cos\\beta cos\\gamma  && sin\\alpha sin\\beta cos\\gamma - sin\\gamma cos\\alpha && - sin\\alpha sin\\beta cos\\gamma - sin\\alpha sin\\gamma     \\\\ \n",
    "      cos\\beta sin\\gamma && sin\\alpha sin\\beta sin\\gamma + cos\\alpha cos\\gamma  && -cos\\alpha sin\\beta sin\\gamma + sin\\alpha cos\\gamma \\\\\n",
    "      sin\\beta && - sin\\alpha cos\\beta && cos\\alpha cos\\beta  \n",
    "\\end{bmatrix}\n",
    "\\end{equation}\n",
    "Czy jest to macierz dla układu lewoskrętnego czy dla układu prawoskrętnego?\n",
    "\n",
    "\n",
    "* Przed rzutowaniem na kamerę  trzeba zamienić współrzędne w następujący sposób: $x=y, y=-z, z=x$. Dlaczego? \n",
    "* Dodatkowo predefiniowane funkcje"
   ]
  },
  {
   "cell_type": "code",
   "execution_count": 3,
   "metadata": {},
   "outputs": [],
   "source": [
    "# Przykład wczytania danych\n",
    "with open(\"data/frame1.dat\", 'rb') as f:\n",
    "    data = pickle.load(f)"
   ]
  },
  {
   "cell_type": "code",
   "execution_count": 4,
   "metadata": {},
   "outputs": [],
   "source": [
    "# Przykład stworzenia 8 wierzchołków prostopadłościanu\n",
    "def create_bb_points(actor: dict, scale: Optional[float] = 1) -> np.ndarray:\n",
    "    cords = np.zeros((8, 4))\n",
    "    bb = actor[\"bounding_box\"]\n",
    "    extent_x = bb[\"extent\"][\"x\"]\n",
    "    extent_y = bb[\"extent\"][\"y\"]\n",
    "    extent_z = bb[\"extent\"][\"z\"]\n",
    "    center = np.array([bb[\"location\"][\"x\"], bb[\"location\"][\"y\"], bb[\"location\"][\"z\"], 0])\n",
    "    # base\n",
    "    cords[0, :] = np.array([scale * extent_x, scale * extent_y, -scale * extent_z, 1])\n",
    "    cords[1, :] = np.array([-scale * extent_x, scale * extent_y, -scale * extent_z, 1])\n",
    "    cords[2, :] = np.array([-scale * extent_x, -scale * extent_y, -scale * extent_z, 1])\n",
    "    cords[3, :] = np.array([scale * extent_x, -scale * extent_y, -scale * extent_z, 1])\n",
    "    # top\n",
    "    cords[4, :] = np.array([scale * extent_x, scale * extent_y, scale * extent_z, 1])\n",
    "    cords[5, :] = np.array([-scale * extent_x, scale * extent_y, scale * extent_z, 1])\n",
    "    cords[6, :] = np.array([-scale * extent_x, -scale * extent_y, scale * extent_z, 1])\n",
    "    cords[7, :] = np.array([scale * extent_x, -scale * extent_y, scale * extent_z, 1])\n",
    "    return (cords+center).T"
   ]
  },
  {
   "cell_type": "code",
   "execution_count": 3,
   "metadata": {},
   "outputs": [],
   "source": [
    "# Wyrysowanie BB na obrazie \n",
    "def draw_bbox3d(points, color: Optional[str] = 'r'):\n",
    "    x, y = only_objects_in_image(points)\n",
    "    # draw lines\n",
    "    if x.size > 0:\n",
    "        # base\n",
    "        plt.plot((x[0], x[1]), (y[0], y[1]), color=color)\n",
    "        plt.plot((x[1], x[2]), (y[1], y[2]), color=color)\n",
    "        plt.plot((x[2], x[3]), (y[2], y[3]), color=color)\n",
    "        plt.plot((x[3], x[0]), (y[3], y[0]), color=color)\n",
    "        # top\n",
    "        plt.plot((x[4], x[5]), (y[4], y[5]), color=color)\n",
    "        plt.plot((x[5], x[6]), (y[5], y[6]), color=color)\n",
    "        plt.plot((x[6], x[7]), (y[6], y[7]), color=color)\n",
    "        plt.plot((x[7], x[4]), (y[7], y[4]), color=color)\n",
    "        # base-top\n",
    "        plt.plot((x[0], x[4]), (y[0], y[4]), color=color)\n",
    "        plt.plot((x[1], x[5]), (y[1], y[5]), color=color)\n",
    "        plt.plot((x[2], x[6]), (y[2], y[6]), color=color)\n",
    "        plt.plot((x[3], x[7]), (y[3], y[7]), color=color)\n",
    "\n",
    "\n",
    "def only_objects_in_image(points: np.ndarray) -> Tuple[np.ndarray, np.ndarray]:\n",
    "    idx = points[:, 2] > 0\n",
    "    x = points[idx, 0]\n",
    "    y = points[idx, 1]\n",
    "    idx_x = np.logical_and(x > 0, x < 1242)\n",
    "    idx_y = np.logical_and(y > 0, y < 352)\n",
    "    idx_size = np.logical_and(idx_y, idx_x)\n",
    "    if np.sum(idx_size) > 0:\n",
    "        return points[:, 0], points[:, 1]\n",
    "    else:\n",
    "        return x[idx_size], y[idx_size]"
   ]
  },
  {
   "cell_type": "markdown",
   "metadata": {},
   "source": [
    "### Rozwiązanie"
   ]
  },
  {
   "cell_type": "code",
   "execution_count": 5,
   "metadata": {},
   "outputs": [],
   "source": [
    "# Your solution goes here"
   ]
  },
  {
   "cell_type": "code",
   "execution_count": null,
   "metadata": {},
   "outputs": [],
   "source": []
  },
  {
   "cell_type": "code",
   "execution_count": null,
   "metadata": {},
   "outputs": [],
   "source": []
  }
 ],
 "metadata": {
  "kernelspec": {
   "display_name": "Python 3",
   "language": "python",
   "name": "python3"
  },
  "language_info": {
   "codemirror_mode": {
    "name": "ipython",
    "version": 3
   },
   "file_extension": ".py",
   "mimetype": "text/x-python",
   "name": "python",
   "nbconvert_exporter": "python",
   "pygments_lexer": "ipython3",
   "version": "3.7.4"
  }
 },
 "nbformat": 4,
 "nbformat_minor": 2
}
